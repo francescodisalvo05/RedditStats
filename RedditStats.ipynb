{
 "cells": [
  {
   "cell_type": "markdown",
   "metadata": {},
   "source": [
    "# RedditStats\n",
    "This analysis concern the publishment statistic of the **dataisbeautiful** subreddits. \n",
    "\n",
    "## Dataset\n",
    "This dataset contains everything we need to get information from a post:\n",
    "- id\n",
    "- title \n",
    "- score\n",
    "- author\n",
    "- authorfalirtext\n",
    "- removed_by\n",
    "- totalawardsreceived\n",
    "- awarders\n",
    "- created_utc\n",
    "- full_link\n",
    "- num_commnets\n",
    "- over_18\n",
    "\n",
    "Thanks to Raphael Fontes for this csv. You can watch other tasks on <a href=\"https://www.kaggle.com/unanimad/dataisbeautiful\">Kaggle</a>.\n",
    "\n",
    "\n",
    "## Questions\n",
    "1) What is the average of titles' lenght? <br />\n",
    "2) Who are the authors with more posts? <br />\n",
    "3) Who mostly removes posts? <br />\n",
    "4) Which are the post with more comments? <br />\n",
    "5) What is the most common time for a post? <br />\n",
    "6) Are there more over 18 or under 18?  <br />\n",
    "7) Which are the most used words? <br />\n",
    "\n",
    "## Let's start\n",
    "First of all, we need to import all the modules, in particular Pandas and Numpy for the data manipulation, then Matplotlib and Seaborn for the data visualization. Datetime and dateutil will be useful for working on datas. "
   ]
  },
  {
   "cell_type": "code",
   "execution_count": 2,
   "metadata": {},
   "outputs": [],
   "source": [
    "import numpy as np\n",
    "import pandas as pd\n",
    "\n",
    "import matplotlib.pyplot as plt\n",
    "from matplotlib import cm\n",
    "import seaborn as sns\n",
    "\n",
    "import datetime\n",
    "from datetime import date"
   ]
  },
  {
   "cell_type": "markdown",
   "metadata": {},
   "source": [
    "Now we need to import our csv"
   ]
  },
  {
   "cell_type": "code",
   "execution_count": 6,
   "metadata": {},
   "outputs": [
    {
     "name": "stderr",
     "output_type": "stream",
     "text": [
      "c:\\users\\francesco\\appdata\\local\\programs\\python\\python37\\lib\\site-packages\\IPython\\core\\interactiveshell.py:3072: DtypeWarning: Columns (5,7) have mixed types.Specify dtype option on import or set low_memory=False.\n",
      "  interactivity=interactivity, compiler=compiler, result=result)\n"
     ]
    }
   ],
   "source": [
    "df = pd.read_csv('CSV/r_dataisbeautiful_posts.csv')"
   ]
  },
  {
   "cell_type": "markdown",
   "metadata": {},
   "source": [
    "We'll get into this error: \"Columns (5,7) have mixed types.Specify dtype option on import or set low_memory=False.\" <br /><br /> We need to add just the **dtype**, as following"
   ]
  },
  {
   "cell_type": "code",
   "execution_count": 48,
   "metadata": {},
   "outputs": [],
   "source": [
    "df = pd.read_csv('CSV/r_dataisbeautiful_posts.csv', dtype=\"unicode\")"
   ]
  },
  {
   "cell_type": "markdown",
   "metadata": {},
   "source": [
    "This is the dataset's first row"
   ]
  },
  {
   "cell_type": "code",
   "execution_count": 50,
   "metadata": {},
   "outputs": [
    {
     "data": {
      "text/html": [
       "<div>\n",
       "<style scoped>\n",
       "    .dataframe tbody tr th:only-of-type {\n",
       "        vertical-align: middle;\n",
       "    }\n",
       "\n",
       "    .dataframe tbody tr th {\n",
       "        vertical-align: top;\n",
       "    }\n",
       "\n",
       "    .dataframe thead th {\n",
       "        text-align: right;\n",
       "    }\n",
       "</style>\n",
       "<table border=\"1\" class=\"dataframe\">\n",
       "  <thead>\n",
       "    <tr style=\"text-align: right;\">\n",
       "      <th></th>\n",
       "      <th>id</th>\n",
       "      <th>title</th>\n",
       "      <th>score</th>\n",
       "      <th>author</th>\n",
       "      <th>author_flair_text</th>\n",
       "      <th>removed_by</th>\n",
       "      <th>total_awards_received</th>\n",
       "      <th>awarders</th>\n",
       "      <th>created_utc</th>\n",
       "      <th>full_link</th>\n",
       "      <th>num_comments</th>\n",
       "      <th>over_18</th>\n",
       "    </tr>\n",
       "  </thead>\n",
       "  <tbody>\n",
       "    <tr>\n",
       "      <th>0</th>\n",
       "      <td>hbyv2e</td>\n",
       "      <td>[OC] How Bar Chart Race Animation Can be Creat...</td>\n",
       "      <td>1</td>\n",
       "      <td>Tom10AE</td>\n",
       "      <td>NaN</td>\n",
       "      <td>NaN</td>\n",
       "      <td>0.0</td>\n",
       "      <td>[]</td>\n",
       "      <td>1592565317</td>\n",
       "      <td>https://www.reddit.com/r/dataisbeautiful/comme...</td>\n",
       "      <td>0</td>\n",
       "      <td>False</td>\n",
       "    </tr>\n",
       "  </tbody>\n",
       "</table>\n",
       "</div>"
      ],
      "text/plain": [
       "       id                                              title score   author  \\\n",
       "0  hbyv2e  [OC] How Bar Chart Race Animation Can be Creat...     1  Tom10AE   \n",
       "\n",
       "  author_flair_text removed_by total_awards_received awarders created_utc  \\\n",
       "0               NaN        NaN                   0.0       []  1592565317   \n",
       "\n",
       "                                           full_link num_comments over_18  \n",
       "0  https://www.reddit.com/r/dataisbeautiful/comme...            0   False  "
      ]
     },
     "execution_count": 50,
     "metadata": {},
     "output_type": "execute_result"
    }
   ],
   "source": [
    "df.head(1)"
   ]
  },
  {
   "cell_type": "markdown",
   "metadata": {},
   "source": [
    "### 1) What is the average of titles' lenght? \n",
    "Firstly, we add another column with every title's length, and just then we can calculate the average."
   ]
  },
  {
   "cell_type": "code",
   "execution_count": 68,
   "metadata": {},
   "outputs": [
    {
     "data": {
      "text/plain": [
       "63.112485113463954"
      ]
     },
     "execution_count": 68,
     "metadata": {},
     "output_type": "execute_result"
    }
   ],
   "source": [
    "df['title_length'] = df['title'].astype(str).apply(len)\n",
    "df['title_length'].mean()"
   ]
  },
  {
   "cell_type": "markdown",
   "metadata": {},
   "source": [
    "So the average title's length is around 63 characters."
   ]
  },
  {
   "cell_type": "markdown",
   "metadata": {},
   "source": [
    "### 2) Who are the authors with more posts?\n",
    "We can respond to this question with a group by and a consecutive barchart."
   ]
  },
  {
   "cell_type": "code",
   "execution_count": 86,
   "metadata": {},
   "outputs": [
    {
     "data": {
      "text/plain": [
       "author\n",
       "[deleted]      28596\n",
       "jimrosenz       2293\n",
       "OverflowDs       484\n",
       "RAGTIMEMA        325\n",
       "rhiever          323\n",
       "sofl96           314\n",
       "caobanlong       314\n",
       "BoMcCready       263\n",
       "profcyclist      246\n",
       "flerlagekr       241\n",
       "Name: id, dtype: int64"
      ]
     },
     "execution_count": 86,
     "metadata": {},
     "output_type": "execute_result"
    }
   ],
   "source": [
    "top10authors = df.groupby([\"author\"]).count()[\"id\"].sort_values(ascending=False)[:10]\n",
    "top10authors"
   ]
  },
  {
   "cell_type": "markdown",
   "metadata": {},
   "source": [
    "As we can see, we need to delete all the columns with \"[deleted]\" as the author's name. We can do that thanks to the operator ~ that drop all the columns with that specific pattern."
   ]
  },
  {
   "cell_type": "code",
   "execution_count": 87,
   "metadata": {},
   "outputs": [
    {
     "data": {
      "text/plain": [
       "author\n",
       "jimrosenz        2293\n",
       "OverflowDs        484\n",
       "RAGTIMEMA         325\n",
       "rhiever           323\n",
       "caobanlong        314\n",
       "sofl96            314\n",
       "BoMcCready        263\n",
       "profcyclist       246\n",
       "flerlagekr        241\n",
       "AutoModerator     240\n",
       "Name: id, dtype: int64"
      ]
     },
     "execution_count": 87,
     "metadata": {},
     "output_type": "execute_result"
    }
   ],
   "source": [
    "to_drop = ['[deleted]']\n",
    "top10authors = df[~df['author'].isin(to_drop)].groupby([\"author\"]).count()[\"id\"].sort_values(ascending=False)[:10]\n",
    "top10authors"
   ]
  },
  {
   "cell_type": "markdown",
   "metadata": {},
   "source": [
    "Now we can plot our result"
   ]
  },
  {
   "cell_type": "code",
   "execution_count": 111,
   "metadata": {},
   "outputs": [
    {
     "data": {
      "text/plain": [
       "Text(0, 0.5, '')"
      ]
     },
     "execution_count": 111,
     "metadata": {},
     "output_type": "execute_result"
    },
    {
     "data": {
      "image/png": "[encoded data removed]",
      "text/plain": [
       "<Figure size 864x576 with 1 Axes>"
      ]
     },
     "metadata": {
      "needs_background": "light"
     },
     "output_type": "display_data"
    }
   ],
   "source": [
    "plt.figure(figsize=(12, 8))\n",
    "sns.barplot(y=top10authors.index, x=top10authors.values, palette=\"autumn\").set_title(\"Top 10 authors\")\n",
    "plt.xlabel(None)\n",
    "plt.ylabel(None)"
   ]
  },
  {
   "cell_type": "markdown",
   "metadata": {},
   "source": [
    "### 3) Who mostly removes posts?\n",
    "This time we need to take care of \"NaN\" and \"deleted\", so as before let's add these two string in our list and clean the dataset. "
   ]
  },
  {
   "cell_type": "code",
   "execution_count": 128,
   "metadata": {},
   "outputs": [
    {
     "data": {
      "text/plain": [
       "Text(0, 0.5, '')"
      ]
     },
     "execution_count": 128,
     "metadata": {},
     "output_type": "execute_result"
    },
    {
     "data": {
      "image/png": "[encoded data removed]",
      "text/plain": [
       "<Figure size 864x576 with 1 Axes>"
      ]
     },
     "metadata": {
      "needs_background": "light"
     },
     "output_type": "display_data"
    }
   ],
   "source": [
    "to_drop = ['NaN','deleted']\n",
    "deleted = df[~df['removed_by'].isin(to_drop)].groupby([\"removed_by\"]).count()[\"id\"].sort_values(ascending=False)\n",
    "\n",
    "plt.figure(figsize=(12, 8))\n",
    "sns.barplot(x=deleted.index, y=deleted.values, palette=\"autumn\")\n",
    "plt.xlabel(None)\n",
    "plt.ylabel(None)"
   ]
  },
  {
   "cell_type": "code",
   "execution_count": null,
   "metadata": {},
   "outputs": [],
   "source": []
  }
 ],
 "metadata": {
  "kernelspec": {
   "display_name": "Python 3",
   "language": "python",
   "name": "python3"
  },
  "language_info": {
   "codemirror_mode": {
    "name": "ipython",
    "version": 3
   },
   "file_extension": ".py",
   "mimetype": "text/x-python",
   "name": "python",
   "nbconvert_exporter": "python",
   "pygments_lexer": "ipython3",
   "version": "3.7.6"
  }
 },
 "nbformat": 4,
 "nbformat_minor": 4
}
