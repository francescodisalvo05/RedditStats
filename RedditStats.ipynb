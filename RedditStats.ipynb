{
 "cells": [
  {
   "cell_type": "markdown",
   "metadata": {},
   "source": [
    "# RedditStats\n",
    "This analysis concern the publishment statistic of the **dataisbeautiful** subreddits. \n",
    "\n",
    "## Dataset\n",
    "This dataset contains everything we need to get information from a post:\n",
    "- id\n",
    "- title \n",
    "- score\n",
    "- author\n",
    "- authorfalirtext\n",
    "- removed_by\n",
    "- totalawardsreceived\n",
    "- awarders\n",
    "- created_utc\n",
    "- full_link\n",
    "- num_commnets\n",
    "- over_18\n",
    "\n",
    "Thanks to Raphael Fontes for this csv. You can watch other tasks on <a href=\"https://www.kaggle.com/unanimad/dataisbeautiful\">Kaggle</a>.\n",
    "\n",
    "\n",
    "## Question \n",
    "1) What is the average of titles' lenght? <br />\n",
    "2) Who is the author with more post? <br />\n",
    "3) Who mostly remove posts? <br />\n",
    "4) Which are the post with more comments? <br />\n",
    "5) What is the most common time for a post? <br />\n",
    "6) Are there more over 18 or under 18?  <br />\n",
    "\n",
    "## Let's start\n",
    "First of all, we need to import all the modules, in particular Pandas and Numpy for the data manipulation, then Matplotlib and Seaborn for the data visualization. Datetime and dateutil will be useful for working on datas. "
   ]
  },
  {
   "cell_type": "code",
   "execution_count": 2,
   "metadata": {},
   "outputs": [],
   "source": [
    "import numpy as np\n",
    "import pandas as pd\n",
    "\n",
    "import matplotlib.pyplot as plt\n",
    "from matplotlib import cm\n",
    "import seaborn as sns\n",
    "\n",
    "import datetime\n",
    "from datetime import date"
   ]
  },
  {
   "cell_type": "code",
   "execution_count": null,
   "metadata": {},
   "outputs": [],
   "source": []
  }
 ],
 "metadata": {
  "kernelspec": {
   "display_name": "Python 3",
   "language": "python",
   "name": "python3"
  },
  "language_info": {
   "codemirror_mode": {
    "name": "ipython",
    "version": 3
   },
   "file_extension": ".py",
   "mimetype": "text/x-python",
   "name": "python",
   "nbconvert_exporter": "python",
   "pygments_lexer": "ipython3",
   "version": "3.7.6"
  }
 },
 "nbformat": 4,
 "nbformat_minor": 4
}
